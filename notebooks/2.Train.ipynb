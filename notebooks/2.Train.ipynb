{
 "cells": [
  {
   "cell_type": "code",
   "execution_count": 1,
   "id": "fb71e1fe",
   "metadata": {},
   "outputs": [],
   "source": [
    "import ast\n",
    "import os\n",
    "import re\n",
    "import warnings\n",
    "from typing import List\n",
    "\n",
    "import joblib\n",
    "import yaml\n",
    "\n",
    "import numpy as np\n",
    "import pandas as pd\n",
    "import seaborn as sns\n",
    "import matplotlib.pyplot as plt\n",
    "\n",
    "from sklearn.feature_selection import VarianceThreshold\n",
    "from sklearn.metrics import mean_absolute_error, r2_score\n",
    "from sklearn.model_selection import KFold, train_test_split\n",
    "from lightgbm import LGBMRegressor\n",
    "\n",
    "from tqdm.notebook import tqdm\n",
    "import optuna\n",
    "from optuna import Study\n",
    "from optuna.visualization.matplotlib import plot_optimization_history, \\\n",
    "                plot_param_importances\n",
    "from transliterate import translit\n",
    "\n",
    "warnings.filterwarnings(\"ignore\")\n",
    "warnings.simplefilter(\"ignore\", category=RuntimeWarning)\n",
    "sns.set()"
   ]
  },
  {
   "cell_type": "markdown",
   "id": "7a0238fb",
   "metadata": {},
   "source": [
    "# Описание задачи"
   ]
  },
  {
   "cell_type": "markdown",
   "id": "9adf5b28",
   "metadata": {},
   "source": [
    "**Общая цель проекта:** Создание веб-приложения для анализа, обучения модели и предсказания сборов фильмов в США на основе данных, полученных с сайта Кинопоиск. Используется FastAPI для backend и Streamlit для frontend.\n",
    "\n",
    "**Цель текущего ноутбука:** \n",
    "Подготовить данные для моделирования, обучить базовую предсказательную модель и провести её тюнинг для улучшения результатов."
   ]
  },
  {
   "cell_type": "markdown",
   "id": "2cc6a005",
   "metadata": {},
   "source": [
    "# Импорт данных"
   ]
  },
  {
   "cell_type": "code",
   "execution_count": 2,
   "id": "54f37f8e",
   "metadata": {},
   "outputs": [],
   "source": [
    "config_path = '../config/params.yml'\n",
    "config = yaml.load(open(config_path), Loader=yaml.FullLoader)\n",
    "\n",
    "preproc = config['preprocessing']\n",
    "train = config['train']"
   ]
  },
  {
   "cell_type": "markdown",
   "id": "5626410c",
   "metadata": {},
   "source": [
    "Описание полей:\n",
    "\n",
    "- **movie_id** - уникальный идентификатор фильма.\n",
    "- **movie_name** - название фильма.\n",
    "- **year** - год выпуска фильма.\n",
    "- **votes_kp, votes_imdb** - количество оценок фильма на Кинопоиске и IMDB.\n",
    "- **rating_kp, rating_imdb** - рейтинги фильма на Кинопоиске и IMDB.\n",
    "- **votes_filmCritics** - количество оценок кинокритиков в мире\n",
    "- **rating_filmCritics** - рейтинг кинокритиков в мире\n",
    "- **votes_await** - количество ожидающих фильм на Кинопоиске\n",
    "- **movieLength** - длина фильма\n",
    "- **ageRating, ratingMpaa** - возрастные рейтинги фильма\n",
    "- **type** - тип картины (фильм/мультфильм)\n",
    "- **genres** - жанры фильма\n",
    "- **countries** - страны фильма\n",
    "- **fees_usa** - сборы фильма в мире, США, России\n",
    "- **fees_world_currency и т.д.** - валюта сборов фильма\n",
    "- **budget** - бюджет и валюта бюджета фильма\n",
    "- **videos_trailers_number** - количество трейлеров\n",
    "- **Production** - студии производства\n",
    "- **Special_effects** - студии спецэффектов\n",
    "- **actor_metric** - метрики актеров\n",
    "- **director_metric** - метрики режиссеров\n",
    "- **writer_metric** - метрики сценристов"
   ]
  },
  {
   "cell_type": "markdown",
   "id": "3f3ba1b0",
   "metadata": {},
   "source": [
    "**Примечание относительно специфических данных в датасете**\n",
    "\n",
    "В этом ноутбуке используются данные, которые были получены в рамках исследовательского проекта, где был выполнен обширный анализ и парсинг информации с сайта Кинопоиск. \n",
    "\n",
    "Отдельно производился расчет метрик персон, таких как вклад актеров, режиссеров и сценаристов в успех фильмов, для колонок `actor_metric`, `director_metric` и `writer_metric`. Эти метрики были рассчитаны в другом проекте и представляют собой результат сложного процесса анализа данных.\n",
    "\n",
    "Детальную информацию о том, как был осуществлен парсинг данных, их преобразование, а также расчет указанных метрик можно посмотреть в данном проекте: https://github.com/maria-2397/BoxOfficePredictor-Kinopoisk"
   ]
  },
  {
   "cell_type": "code",
   "execution_count": 3,
   "id": "e2b9c4a1",
   "metadata": {},
   "outputs": [
    {
     "data": {
      "text/html": [
       "<div>\n",
       "<style scoped>\n",
       "    .dataframe tbody tr th:only-of-type {\n",
       "        vertical-align: middle;\n",
       "    }\n",
       "\n",
       "    .dataframe tbody tr th {\n",
       "        vertical-align: top;\n",
       "    }\n",
       "\n",
       "    .dataframe thead th {\n",
       "        text-align: right;\n",
       "    }\n",
       "</style>\n",
       "<table border=\"1\" class=\"dataframe\">\n",
       "  <thead>\n",
       "    <tr style=\"text-align: right;\">\n",
       "      <th></th>\n",
       "      <th>0</th>\n",
       "      <th>1</th>\n",
       "      <th>2</th>\n",
       "      <th>3</th>\n",
       "      <th>4</th>\n",
       "    </tr>\n",
       "  </thead>\n",
       "  <tbody>\n",
       "    <tr>\n",
       "      <th>movie_id</th>\n",
       "      <td>535341</td>\n",
       "      <td>1143242</td>\n",
       "      <td>462682</td>\n",
       "      <td>251733</td>\n",
       "      <td>1188529</td>\n",
       "    </tr>\n",
       "    <tr>\n",
       "      <th>movie_name</th>\n",
       "      <td>1+1</td>\n",
       "      <td>Джентльмены</td>\n",
       "      <td>Волк с Уолл-стрит</td>\n",
       "      <td>Аватар</td>\n",
       "      <td>Достать ножи</td>\n",
       "    </tr>\n",
       "    <tr>\n",
       "      <th>year</th>\n",
       "      <td>2011</td>\n",
       "      <td>2019</td>\n",
       "      <td>2013</td>\n",
       "      <td>2009</td>\n",
       "      <td>2019</td>\n",
       "    </tr>\n",
       "    <tr>\n",
       "      <th>votes_kp</th>\n",
       "      <td>1678838.0</td>\n",
       "      <td>1524128.0</td>\n",
       "      <td>1125382.0</td>\n",
       "      <td>1014540.0</td>\n",
       "      <td>953836.0</td>\n",
       "    </tr>\n",
       "    <tr>\n",
       "      <th>votes_imdb</th>\n",
       "      <td>895482.0</td>\n",
       "      <td>372380.0</td>\n",
       "      <td>1471424.0</td>\n",
       "      <td>1359191.0</td>\n",
       "      <td>742208.0</td>\n",
       "    </tr>\n",
       "    <tr>\n",
       "      <th>votes_filmCritics</th>\n",
       "      <td>130.0</td>\n",
       "      <td>277.0</td>\n",
       "      <td>289.0</td>\n",
       "      <td>335.0</td>\n",
       "      <td>474.0</td>\n",
       "    </tr>\n",
       "    <tr>\n",
       "      <th>votes_await</th>\n",
       "      <td>15.0</td>\n",
       "      <td>13642.0</td>\n",
       "      <td>43024.0</td>\n",
       "      <td>38689.0</td>\n",
       "      <td>9141.0</td>\n",
       "    </tr>\n",
       "    <tr>\n",
       "      <th>rating_kp</th>\n",
       "      <td>8.813</td>\n",
       "      <td>8.562</td>\n",
       "      <td>7.976</td>\n",
       "      <td>7.972</td>\n",
       "      <td>8.102</td>\n",
       "    </tr>\n",
       "    <tr>\n",
       "      <th>rating_imdb</th>\n",
       "      <td>8.5</td>\n",
       "      <td>7.8</td>\n",
       "      <td>8.2</td>\n",
       "      <td>7.9</td>\n",
       "      <td>7.9</td>\n",
       "    </tr>\n",
       "    <tr>\n",
       "      <th>rating_filmCritics</th>\n",
       "      <td>6.8</td>\n",
       "      <td>6.5</td>\n",
       "      <td>7.8</td>\n",
       "      <td>7.4</td>\n",
       "      <td>8.3</td>\n",
       "    </tr>\n",
       "    <tr>\n",
       "      <th>movieLength</th>\n",
       "      <td>112.0</td>\n",
       "      <td>113.0</td>\n",
       "      <td>180.0</td>\n",
       "      <td>162.0</td>\n",
       "      <td>130.0</td>\n",
       "    </tr>\n",
       "    <tr>\n",
       "      <th>ageRating</th>\n",
       "      <td>18.0</td>\n",
       "      <td>18.0</td>\n",
       "      <td>18.0</td>\n",
       "      <td>12.0</td>\n",
       "      <td>18.0</td>\n",
       "    </tr>\n",
       "    <tr>\n",
       "      <th>ratingMpaa</th>\n",
       "      <td>r</td>\n",
       "      <td>r</td>\n",
       "      <td>r</td>\n",
       "      <td>pg13</td>\n",
       "      <td>pg13</td>\n",
       "    </tr>\n",
       "    <tr>\n",
       "      <th>type</th>\n",
       "      <td>movie</td>\n",
       "      <td>movie</td>\n",
       "      <td>movie</td>\n",
       "      <td>movie</td>\n",
       "      <td>movie</td>\n",
       "    </tr>\n",
       "    <tr>\n",
       "      <th>genres</th>\n",
       "      <td>['драма', 'комедия', 'биография']</td>\n",
       "      <td>['криминал', 'комедия', 'боевик']</td>\n",
       "      <td>['драма', 'криминал', 'биография', 'комедия']</td>\n",
       "      <td>['фантастика', 'боевик', 'драма', 'приключения']</td>\n",
       "      <td>['детектив', 'комедия', 'драма', 'криминал']</td>\n",
       "    </tr>\n",
       "    <tr>\n",
       "      <th>countries</th>\n",
       "      <td>['Франция']</td>\n",
       "      <td>['США', 'Великобритания']</td>\n",
       "      <td>['США']</td>\n",
       "      <td>['США']</td>\n",
       "      <td>['США']</td>\n",
       "    </tr>\n",
       "    <tr>\n",
       "      <th>fees_usa</th>\n",
       "      <td>10198820</td>\n",
       "      <td>36471795</td>\n",
       "      <td>116900694</td>\n",
       "      <td>785221649</td>\n",
       "      <td>165363234</td>\n",
       "    </tr>\n",
       "    <tr>\n",
       "      <th>videos_trailers_number</th>\n",
       "      <td>2.0</td>\n",
       "      <td>4.0</td>\n",
       "      <td>3.0</td>\n",
       "      <td>3.0</td>\n",
       "      <td>4.0</td>\n",
       "    </tr>\n",
       "    <tr>\n",
       "      <th>budget</th>\n",
       "      <td>13205000.0</td>\n",
       "      <td>22000000.0</td>\n",
       "      <td>100000000.0</td>\n",
       "      <td>237000000.0</td>\n",
       "      <td>40000000.0</td>\n",
       "    </tr>\n",
       "    <tr>\n",
       "      <th>actor_metric</th>\n",
       "      <td>723221.680343</td>\n",
       "      <td>54316529.527</td>\n",
       "      <td>45848332.328754</td>\n",
       "      <td>7190519.093615</td>\n",
       "      <td>83076270.649053</td>\n",
       "    </tr>\n",
       "    <tr>\n",
       "      <th>writer_metric</th>\n",
       "      <td>NaN</td>\n",
       "      <td>4855018.642112</td>\n",
       "      <td>64723.565335</td>\n",
       "      <td>2272067.954858</td>\n",
       "      <td>6140030.845808</td>\n",
       "    </tr>\n",
       "    <tr>\n",
       "      <th>director_metric</th>\n",
       "      <td>NaN</td>\n",
       "      <td>8612017.558113</td>\n",
       "      <td>11145655.616939</td>\n",
       "      <td>2347136.450462</td>\n",
       "      <td>6140030.845808</td>\n",
       "    </tr>\n",
       "    <tr>\n",
       "      <th>Special_effects</th>\n",
       "      <td>[]</td>\n",
       "      <td>[]</td>\n",
       "      <td>[]</td>\n",
       "      <td>['Gentle Giant Studios Inc.', 'Industrial Ligh...</td>\n",
       "      <td>['Industrial Light &amp; Magic (ILM)']</td>\n",
       "    </tr>\n",
       "    <tr>\n",
       "      <th>Production</th>\n",
       "      <td>['Canal+[France]']</td>\n",
       "      <td>[]</td>\n",
       "      <td>['AMT']</td>\n",
       "      <td>['20th Century Fox Film Corporation', 'Millenn...</td>\n",
       "      <td>['AMT']</td>\n",
       "    </tr>\n",
       "  </tbody>\n",
       "</table>\n",
       "</div>"
      ],
      "text/plain": [
       "                                                        0   \n",
       "movie_id                                           535341  \\\n",
       "movie_name                                            1+1   \n",
       "year                                                 2011   \n",
       "votes_kp                                        1678838.0   \n",
       "votes_imdb                                       895482.0   \n",
       "votes_filmCritics                                   130.0   \n",
       "votes_await                                          15.0   \n",
       "rating_kp                                           8.813   \n",
       "rating_imdb                                           8.5   \n",
       "rating_filmCritics                                    6.8   \n",
       "movieLength                                         112.0   \n",
       "ageRating                                            18.0   \n",
       "ratingMpaa                                              r   \n",
       "type                                                movie   \n",
       "genres                  ['драма', 'комедия', 'биография']   \n",
       "countries                                     ['Франция']   \n",
       "fees_usa                                         10198820   \n",
       "videos_trailers_number                                2.0   \n",
       "budget                                         13205000.0   \n",
       "actor_metric                                723221.680343   \n",
       "writer_metric                                         NaN   \n",
       "director_metric                                       NaN   \n",
       "Special_effects                                        []   \n",
       "Production                             ['Canal+[France]']   \n",
       "\n",
       "                                                        1   \n",
       "movie_id                                          1143242  \\\n",
       "movie_name                                    Джентльмены   \n",
       "year                                                 2019   \n",
       "votes_kp                                        1524128.0   \n",
       "votes_imdb                                       372380.0   \n",
       "votes_filmCritics                                   277.0   \n",
       "votes_await                                       13642.0   \n",
       "rating_kp                                           8.562   \n",
       "rating_imdb                                           7.8   \n",
       "rating_filmCritics                                    6.5   \n",
       "movieLength                                         113.0   \n",
       "ageRating                                            18.0   \n",
       "ratingMpaa                                              r   \n",
       "type                                                movie   \n",
       "genres                  ['криминал', 'комедия', 'боевик']   \n",
       "countries                       ['США', 'Великобритания']   \n",
       "fees_usa                                         36471795   \n",
       "videos_trailers_number                                4.0   \n",
       "budget                                         22000000.0   \n",
       "actor_metric                                 54316529.527   \n",
       "writer_metric                              4855018.642112   \n",
       "director_metric                            8612017.558113   \n",
       "Special_effects                                        []   \n",
       "Production                                             []   \n",
       "\n",
       "                                                                    2   \n",
       "movie_id                                                       462682  \\\n",
       "movie_name                                          Волк с Уолл-стрит   \n",
       "year                                                             2013   \n",
       "votes_kp                                                    1125382.0   \n",
       "votes_imdb                                                  1471424.0   \n",
       "votes_filmCritics                                               289.0   \n",
       "votes_await                                                   43024.0   \n",
       "rating_kp                                                       7.976   \n",
       "rating_imdb                                                       8.2   \n",
       "rating_filmCritics                                                7.8   \n",
       "movieLength                                                     180.0   \n",
       "ageRating                                                        18.0   \n",
       "ratingMpaa                                                          r   \n",
       "type                                                            movie   \n",
       "genres                  ['драма', 'криминал', 'биография', 'комедия']   \n",
       "countries                                                     ['США']   \n",
       "fees_usa                                                    116900694   \n",
       "videos_trailers_number                                            3.0   \n",
       "budget                                                    100000000.0   \n",
       "actor_metric                                          45848332.328754   \n",
       "writer_metric                                            64723.565335   \n",
       "director_metric                                       11145655.616939   \n",
       "Special_effects                                                    []   \n",
       "Production                                                    ['AMT']   \n",
       "\n",
       "                                                                        3   \n",
       "movie_id                                                           251733  \\\n",
       "movie_name                                                         Аватар   \n",
       "year                                                                 2009   \n",
       "votes_kp                                                        1014540.0   \n",
       "votes_imdb                                                      1359191.0   \n",
       "votes_filmCritics                                                   335.0   \n",
       "votes_await                                                       38689.0   \n",
       "rating_kp                                                           7.972   \n",
       "rating_imdb                                                           7.9   \n",
       "rating_filmCritics                                                    7.4   \n",
       "movieLength                                                         162.0   \n",
       "ageRating                                                            12.0   \n",
       "ratingMpaa                                                           pg13   \n",
       "type                                                                movie   \n",
       "genres                   ['фантастика', 'боевик', 'драма', 'приключения']   \n",
       "countries                                                         ['США']   \n",
       "fees_usa                                                        785221649   \n",
       "videos_trailers_number                                                3.0   \n",
       "budget                                                        237000000.0   \n",
       "actor_metric                                               7190519.093615   \n",
       "writer_metric                                              2272067.954858   \n",
       "director_metric                                            2347136.450462   \n",
       "Special_effects         ['Gentle Giant Studios Inc.', 'Industrial Ligh...   \n",
       "Production              ['20th Century Fox Film Corporation', 'Millenn...   \n",
       "\n",
       "                                                                   4  \n",
       "movie_id                                                     1188529  \n",
       "movie_name                                              Достать ножи  \n",
       "year                                                            2019  \n",
       "votes_kp                                                    953836.0  \n",
       "votes_imdb                                                  742208.0  \n",
       "votes_filmCritics                                              474.0  \n",
       "votes_await                                                   9141.0  \n",
       "rating_kp                                                      8.102  \n",
       "rating_imdb                                                      7.9  \n",
       "rating_filmCritics                                               8.3  \n",
       "movieLength                                                    130.0  \n",
       "ageRating                                                       18.0  \n",
       "ratingMpaa                                                      pg13  \n",
       "type                                                           movie  \n",
       "genres                  ['детектив', 'комедия', 'драма', 'криминал']  \n",
       "countries                                                    ['США']  \n",
       "fees_usa                                                   165363234  \n",
       "videos_trailers_number                                           4.0  \n",
       "budget                                                    40000000.0  \n",
       "actor_metric                                         83076270.649053  \n",
       "writer_metric                                         6140030.845808  \n",
       "director_metric                                       6140030.845808  \n",
       "Special_effects                   ['Industrial Light & Magic (ILM)']  \n",
       "Production                                                   ['AMT']  "
      ]
     },
     "execution_count": 3,
     "metadata": {},
     "output_type": "execute_result"
    }
   ],
   "source": [
    "df = pd.read_csv(preproc['original_data_path'], sep=preproc['data_separator'])\n",
    "df[:5].T"
   ]
  },
  {
   "cell_type": "code",
   "execution_count": 4,
   "id": "419594ef",
   "metadata": {
    "scrolled": false
   },
   "outputs": [
    {
     "data": {
      "text/plain": [
       "(4816, 24)"
      ]
     },
     "execution_count": 4,
     "metadata": {},
     "output_type": "execute_result"
    }
   ],
   "source": [
    "df.shape"
   ]
  },
  {
   "cell_type": "markdown",
   "id": "c61f1f4f",
   "metadata": {},
   "source": [
    "# Распределение целевой переменной"
   ]
  },
  {
   "cell_type": "code",
   "execution_count": 5,
   "id": "f6ea1361",
   "metadata": {},
   "outputs": [
    {
     "data": {
      "image/png": "[encoded data removed]",
      "text/plain": [
       "<Figure size 1500x600 with 2 Axes>"
      ]
     },
     "metadata": {},
     "output_type": "display_data"
    }
   ],
   "source": [
    "fig, axes = plt.subplots(nrows=1, ncols=2, figsize=(15, 6))\n",
    "\n",
    "# Первый график для исходной переменной\n",
    "sns.histplot(df.fees_usa, color='blue', ax=axes[0])\n",
    "axes[0].set_title('Распределение сборов в США')\n",
    "\n",
    "# Второй график для логарифмированной переменной\n",
    "sns.histplot(np.log1p(df.fees_usa), color='blue', ax=axes[1])\n",
    "axes[1].set_title('Рсапределение логарифмированных сборов в США')\n",
    "\n",
    "plt.tight_layout()\n",
    "plt.show();"
   ]
  },
  {
   "cell_type": "markdown",
   "id": "663d42c4",
   "metadata": {},
   "source": [
    "Целевая переменная имеет длинный правый хвост. Распределение асимметричное. \n",
    "\n",
    "\n",
    "Для обучения будем использовать логарифмированную переменную, чтобы предсказания сборов не были отрицательными. \n",
    "\n",
    "Также используем функцию потерь, устойчивую к выбросам и ненормальному распределению - MAE (Mean Absolute Error)"
   ]
  },
  {
   "cell_type": "markdown",
   "id": "95cf0ddb",
   "metadata": {},
   "source": [
    "# Преобразование данных"
   ]
  },
  {
   "cell_type": "code",
   "execution_count": 6,
   "id": "a27d4a63",
   "metadata": {},
   "outputs": [],
   "source": [
    "class DataFrameTransformer:\n",
    "    \"\"\"\n",
    "    Класс для выполнения преобразований над DataFrame.\n",
    "    Включает в себя добавление новых признаков, \n",
    "    бинаризацию колонок и очистку названий колонок.\n",
    "    \"\"\"\n",
    "\n",
    "    def __init__(self, df: pd.DataFrame, year: int, p: float,\n",
    "                 cols_to_drop: List[str], dummy_cols: List[str], target_col: str,\n",
    "                log_target: bool):\n",
    "        \"\"\"\n",
    "        Инициализация класса с dataframe и параметрами преобразования.\n",
    "\n",
    "        Параметры:\n",
    "        - df (pd.DataFrame): Входной dataframe.\n",
    "        - year (int): Текущий год для расчета возраста фильма.\n",
    "        - p (float): Порог дисперсии для фильтрации бинаризованных колонок.\n",
    "        - cols_to_drop (List[str]): Колонки для удаления из dataframe.\n",
    "        - dummy_cols (List[str]): Колонки для бинаризации.\n",
    "        - target_col (str): Имя колонки с целевой переменной.\n",
    "        - log_target (bool): условие логарифмирования целевой переменной.\n",
    "        \"\"\"\n",
    "\n",
    "        self.df = df.copy()\n",
    "        self.year = year\n",
    "        self.p = p\n",
    "        self.cols_to_drop = cols_to_drop\n",
    "        self.dummy_cols = dummy_cols\n",
    "        self.log_target=log_target\n",
    "        self.target_col = target_col\n",
    "\n",
    "    def transform(self) -> pd.DataFrame:\n",
    "        \"\"\"Выполняет ряд преобразований над dataframe.\"\"\"\n",
    "\n",
    "        self.add_movie_age() \n",
    "        self.log_target_col()\n",
    "        self.series_to_type_list() \n",
    "        self.add_dummies() \n",
    "        self.drop_unnecessary_cols() \n",
    "        self.convert_to_category()  \n",
    "        self.transform_cols()  \n",
    "        \n",
    "        return self.df\n",
    "    \n",
    "    def log_target_col(self) -> None:\n",
    "        \"\"\"Логарифмирование целевой переменной\"\"\"\n",
    "        if self.log_target:\n",
    "            self.df[self.target_col] = np.log1p(self.df[self.target_col])\n",
    "\n",
    "    def add_movie_age(self) -> None:\n",
    "        \"\"\"Добавление признака возраста фильма\"\"\"\n",
    "        self.df['movie_age'] = self.year - self.df.year\n",
    "        del self.df['year']\n",
    "        \n",
    "    def series_to_type_list(self) -> None:\n",
    "        \"\"\"Преобразование колонок в тип список\"\"\"\n",
    "        for col in self.dummy_cols:\n",
    "            self.df[col] = self.df[col].fillna('[]')\n",
    "            self.df[col] = self.df[col].apply(\n",
    "                lambda x: x if isinstance(x, list) else ast.literal_eval(x))\n",
    "\n",
    "    def add_dummies(self) -> None:\n",
    "        \"\"\"Бинаризует указанные колонки в dataframe.\n",
    "           Добавляет только те, дисперсия которых выше заданного порога.\n",
    "        \"\"\"\n",
    "        for col in self.dummy_cols:\n",
    "\n",
    "            dummies = self.make_dummies(col)\n",
    "            filtered_dummies = self.filter_dummies_by_variance(dummies)\n",
    "            self.df = pd.concat([self.df, filtered_dummies], axis=1)\n",
    "\n",
    "    def make_dummies(self, col: str) -> pd.DataFrame:\n",
    "        \"\"\"\n",
    "        Создает бинаризованные колонки для указанного признака в dataframe.\n",
    "        \"\"\"\n",
    "        dummies = self.df[col].str.join('|').str.get_dummies(sep='|')\n",
    "        return dummies\n",
    "\n",
    "    def filter_dummies_by_variance(self,\n",
    "                                   dummies: pd.DataFrame) -> pd.DataFrame:\n",
    "        \"\"\"Фильтрация бинаризованных колонок по порогу дисперсии\"\"\"\n",
    "        threshold = self.p * (1 - self.p)\n",
    "        selector = VarianceThreshold(threshold=threshold)\n",
    "        selector.fit(dummies)\n",
    "\n",
    "        return dummies[dummies.columns[selector.get_support(indices=True)]]\n",
    "\n",
    "    def drop_unnecessary_cols(self) -> None:\n",
    "        \"\"\"Удаление ненужных колонок\"\"\"\n",
    "        self.df = self.df.drop(self.cols_to_drop, axis=1)\n",
    "\n",
    "    def convert_to_category(self) -> None:\n",
    "        \"\"\"Преобразование колонок типа object в тип category\"\"\"\n",
    "        cat_cols = self.df.select_dtypes('object').columns\n",
    "        self.df[cat_cols] = self.df[cat_cols].astype(\"category\")\n",
    "\n",
    "    # Блок функций для преобразования названий колонок\n",
    "    def transform_cols(self) -> None:\n",
    "        \"\"\"Пайплайн преобразования названий колонок\"\"\"\n",
    "        self.translit_column_names()\n",
    "        self.replace_spaces_with_underscores()\n",
    "        self.clean_column_names()\n",
    "\n",
    "    def translit_column_names(self) -> None:\n",
    "        \"\"\"Перевод названий колонок в латинские буквы\"\"\"\n",
    "        self.df.columns = [\n",
    "            translit(x, language_code='ru', reversed=True)\n",
    "            for x in self.df.columns\n",
    "        ]\n",
    "\n",
    "    def replace_spaces_with_underscores(self) -> None:\n",
    "        \"\"\"Замена пробелов в названиях колонок на нижние подчеркивания\"\"\"\n",
    "        self.df.columns = [col.replace(' ', '_') for col in self.df.columns]\n",
    "\n",
    "    def clean_column_names(self) -> None:\n",
    "        \"\"\"Фильтарция названий колонок. Остаются только следующие символы:\n",
    "            нижние подчеркивания, англ. буквы и цифры\"\"\"\n",
    "        self.df = self.df.rename(\n",
    "            columns=lambda x: re.sub('[^A-Za-z0-9_]+', '', x))"
   ]
  },
  {
   "cell_type": "code",
   "execution_count": 7,
   "id": "f401d582",
   "metadata": {},
   "outputs": [],
   "source": [
    "transformer = DataFrameTransformer(df, \n",
    "                                   year=2019, \n",
    "                                   p=0.018,\n",
    "                                   cols_to_drop=preproc[\"drop_columns\"],\n",
    "                                   dummy_cols=preproc[\"dummies\"][\"columns\"],\n",
    "                                   log_target=preproc[\"log_target\"],\n",
    "                                   target_col=preproc[\"target_column\"]\n",
    "                                  )\n",
    "df = transformer.transform()"
   ]
  },
  {
   "cell_type": "markdown",
   "id": "4581e15d",
   "metadata": {},
   "source": [
    "# Baseline"
   ]
  },
  {
   "cell_type": "code",
   "execution_count": 8,
   "id": "53a746a8",
   "metadata": {},
   "outputs": [],
   "source": [
    "def r2_adjusted(y_true: np.ndarray, y_pred: np.ndarray,\n",
    "                x_test: np.ndarray) -> float:\n",
    "    \"\"\"Коэффициент детерминации (множественная регрессия)\"\"\"\n",
    "    n_objects = len(y_true)\n",
    "    n_features = x_test.shape[1]\n",
    "    r2 = r2_score(y_true, y_pred)\n",
    "    return 1 - (1 - r2) * (n_objects - 1) / (n_objects - n_features - 1)\n",
    "\n",
    "\n",
    "def wape(y_true: np.ndarray, y_pred: np.ndarray) -> float:\n",
    "    \"\"\"Weighted Absolute Percent Error\"\"\"\n",
    "    return np.sum(np.abs(y_pred - y_true)) / np.sum(y_true) * 100\n",
    "\n",
    "\n",
    "def create_dict_metrics(\n",
    "        y_test: pd.Series,\n",
    "        y_predict: pd.Series,\n",
    "        x_test: pd.DataFrame,\n",
    "        target_is_log: bool) -> dict:\n",
    "    \"\"\"\n",
    "    Получение словаря с метриками для задачи регрессии и запись в словарь\n",
    "    :param y_test: реальные данные\n",
    "    :param y_predict: предсказанные значения\n",
    "    :param x_test: матрица признаков для r2_adjusted\n",
    "    :param target_is_log: логарифмирование целевой переменной, если необходимо\n",
    "    :return: словарь с метриками\n",
    "    \"\"\"\n",
    "    if target_is_log:\n",
    "        y_test = np.expm1(y_test)\n",
    "        y_predict = np.expm1(y_predict)\n",
    "\n",
    "    dict_metrics = {\n",
    "        \"mae\": round(mean_absolute_error(y_test, y_predict), 3),\n",
    "        \"r2_adjusted\": round(r2_adjusted(y_test, y_predict, x_test), 3),\n",
    "        \"wape\": round(wape(y_test, y_predict), 3)\n",
    "    }\n",
    "    return dict_metrics\n",
    "\n",
    "\n",
    "def check_overfitting(metrics: dict) -> dict:\n",
    "    \"\"\"\n",
    "    Вычисляет степень переобучения модели.\n",
    "\n",
    "    :param metrics: Словарь с метриками для обучающих и тестовых данных. \n",
    "                    Структура словаря:\n",
    "                    {'train': {'metric1': value, 'metric2': value, ...},\n",
    "                     'test': {'metric1': value, 'metric2': value, ...}}\n",
    "                     \n",
    "    :return: Словарь, отражающий процент переобучения для каждой метрики. \n",
    "             Структура словаря:\n",
    "             {'metric1': overfitting_percentage, \n",
    "              'metric2': overfitting_percentage, ...}\n",
    "    \"\"\"\n",
    "\n",
    "    overfitting = {}\n",
    "    metrics_train = metrics['train']\n",
    "    metrics_test = metrics['test']\n",
    "\n",
    "    for metric in metrics_test:\n",
    "        if metrics_test[metric] != 0: \n",
    "            train = metrics_train[metric]\n",
    "            test = metrics_test[metric]\n",
    "            overfitting[metric] = round(abs((train - test) / test * 100), 2)\n",
    "        else:\n",
    "            overfitting[metric] = 100\n",
    "\n",
    "    return overfitting"
   ]
  },
  {
   "cell_type": "code",
   "execution_count": 9,
   "id": "56ea9ea7",
   "metadata": {
    "code_folding": []
   },
   "outputs": [],
   "source": [
    "X = df.drop([train['target_column']], axis=1)\n",
    "y = df[train['target_column']]\n",
    "\n",
    "X_train, X_test, y_train, y_test = train_test_split(\n",
    "    X,\n",
    "    y,\n",
    "    test_size=preproc['test_size'],\n",
    "    shuffle=True,\n",
    "    random_state=preproc['random_state'])"
   ]
  },
  {
   "cell_type": "code",
   "execution_count": 10,
   "id": "20020db8",
   "metadata": {},
   "outputs": [
    {
     "data": {
      "text/html": [
       "<style>#sk-container-id-1 {color: black;background-color: white;}#sk-container-id-1 pre{padding: 0;}#sk-container-id-1 div.sk-toggleable {background-color: white;}#sk-container-id-1 label.sk-toggleable__label {cursor: pointer;display: block;width: 100%;margin-bottom: 0;padding: 0.3em;box-sizing: border-box;text-align: center;}#sk-container-id-1 label.sk-toggleable__label-arrow:before {content: \"▸\";float: left;margin-right: 0.25em;color: #696969;}#sk-container-id-1 label.sk-toggleable__label-arrow:hover:before {color: black;}#sk-container-id-1 div.sk-estimator:hover label.sk-toggleable__label-arrow:before {color: black;}#sk-container-id-1 div.sk-toggleable__content {max-height: 0;max-width: 0;overflow: hidden;text-align: left;background-color: #f0f8ff;}#sk-container-id-1 div.sk-toggleable__content pre {margin: 0.2em;color: black;border-radius: 0.25em;background-color: #f0f8ff;}#sk-container-id-1 input.sk-toggleable__control:checked~div.sk-toggleable__content {max-height: 200px;max-width: 100%;overflow: auto;}#sk-container-id-1 input.sk-toggleable__control:checked~label.sk-toggleable__label-arrow:before {content: \"▾\";}#sk-container-id-1 div.sk-estimator input.sk-toggleable__control:checked~label.sk-toggleable__label {background-color: #d4ebff;}#sk-container-id-1 div.sk-label input.sk-toggleable__control:checked~label.sk-toggleable__label {background-color: #d4ebff;}#sk-container-id-1 input.sk-hidden--visually {border: 0;clip: rect(1px 1px 1px 1px);clip: rect(1px, 1px, 1px, 1px);height: 1px;margin: -1px;overflow: hidden;padding: 0;position: absolute;width: 1px;}#sk-container-id-1 div.sk-estimator {font-family: monospace;background-color: #f0f8ff;border: 1px dotted black;border-radius: 0.25em;box-sizing: border-box;margin-bottom: 0.5em;}#sk-container-id-1 div.sk-estimator:hover {background-color: #d4ebff;}#sk-container-id-1 div.sk-parallel-item::after {content: \"\";width: 100%;border-bottom: 1px solid gray;flex-grow: 1;}#sk-container-id-1 div.sk-label:hover label.sk-toggleable__label {background-color: #d4ebff;}#sk-container-id-1 div.sk-serial::before {content: \"\";position: absolute;border-left: 1px solid gray;box-sizing: border-box;top: 0;bottom: 0;left: 50%;z-index: 0;}#sk-container-id-1 div.sk-serial {display: flex;flex-direction: column;align-items: center;background-color: white;padding-right: 0.2em;padding-left: 0.2em;position: relative;}#sk-container-id-1 div.sk-item {position: relative;z-index: 1;}#sk-container-id-1 div.sk-parallel {display: flex;align-items: stretch;justify-content: center;background-color: white;position: relative;}#sk-container-id-1 div.sk-item::before, #sk-container-id-1 div.sk-parallel-item::before {content: \"\";position: absolute;border-left: 1px solid gray;box-sizing: border-box;top: 0;bottom: 0;left: 50%;z-index: -1;}#sk-container-id-1 div.sk-parallel-item {display: flex;flex-direction: column;z-index: 1;position: relative;background-color: white;}#sk-container-id-1 div.sk-parallel-item:first-child::after {align-self: flex-end;width: 50%;}#sk-container-id-1 div.sk-parallel-item:last-child::after {align-self: flex-start;width: 50%;}#sk-container-id-1 div.sk-parallel-item:only-child::after {width: 0;}#sk-container-id-1 div.sk-dashed-wrapped {border: 1px dashed gray;margin: 0 0.4em 0.5em 0.4em;box-sizing: border-box;padding-bottom: 0.4em;background-color: white;}#sk-container-id-1 div.sk-label label {font-family: monospace;font-weight: bold;display: inline-block;line-height: 1.2em;}#sk-container-id-1 div.sk-label-container {text-align: center;}#sk-container-id-1 div.sk-container {/* jupyter's `normalize.less` sets `[hidden] { display: none; }` but bootstrap.min.css set `[hidden] { display: none !important; }` so we also need the `!important` here to be able to override the default hidden behavior on the sphinx rendered scikit-learn.org. See: https://github.com/scikit-learn/scikit-learn/issues/21755 */display: inline-block !important;position: relative;}#sk-container-id-1 div.sk-text-repr-fallback {display: none;}</style><div id=\"sk-container-id-1\" class=\"sk-top-container\"><div class=\"sk-text-repr-fallback\"><pre>LGBMRegressor(objective=&#x27;mae&#x27;, random_state=10, verbose=-1)</pre><b>In a Jupyter environment, please rerun this cell to show the HTML representation or trust the notebook. <br />On GitHub, the HTML representation is unable to render, please try loading this page with nbviewer.org.</b></div><div class=\"sk-container\" hidden><div class=\"sk-item\"><div class=\"sk-estimator sk-toggleable\"><input class=\"sk-toggleable__control sk-hidden--visually\" id=\"sk-estimator-id-1\" type=\"checkbox\" checked><label for=\"sk-estimator-id-1\" class=\"sk-toggleable__label sk-toggleable__label-arrow\">LGBMRegressor</label><div class=\"sk-toggleable__content\"><pre>LGBMRegressor(objective=&#x27;mae&#x27;, random_state=10, verbose=-1)</pre></div></div></div></div></div>"
      ],
      "text/plain": [
       "LGBMRegressor(objective='mae', random_state=10, verbose=-1)"
      ]
     },
     "execution_count": 10,
     "metadata": {},
     "output_type": "execute_result"
    }
   ],
   "source": [
    "# Бэйзлайн LightGBM\n",
    "reg_baseline = LGBMRegressor(random_state=preproc['random_state'],\n",
    "                        objective='mae',\n",
    "                        verbose=-1)\n",
    "reg_baseline.fit(X_train, y_train, eval_metric=\"mae\")"
   ]
  },
  {
   "cell_type": "code",
   "execution_count": 11,
   "id": "083e6892",
   "metadata": {},
   "outputs": [],
   "source": [
    "metrics_baseline = {}\n",
    "\n",
    "metrics_baseline['test'] = create_dict_metrics(y_test=y_test,\n",
    "                                      y_predict=reg_baseline.predict(X_test),\n",
    "                                      x_test=X_test,\n",
    "                                      target_is_log=train['log_target'])\n",
    "\n",
    "metrics_baseline['train'] = create_dict_metrics(y_test=y_train,\n",
    "                                       y_predict=reg_baseline.predict(X_train),\n",
    "                                       x_test=X_train,\n",
    "                                       target_is_log=train['log_target'])\n",
    "\n",
    "overfitting_baseline =  check_overfitting(metrics_baseline)"
   ]
  },
  {
   "cell_type": "code",
   "execution_count": 12,
   "id": "3fcd2215",
   "metadata": {},
   "outputs": [
    {
     "data": {
      "text/plain": [
       "{'test': {'mae': 14953964.227, 'r2_adjusted': 0.77, 'wape': 38.253},\n",
       " 'train': {'mae': 9945923.751, 'r2_adjusted': 0.849, 'wape': 24.972}}"
      ]
     },
     "execution_count": 12,
     "metadata": {},
     "output_type": "execute_result"
    }
   ],
   "source": [
    "metrics_baseline"
   ]
  },
  {
   "cell_type": "code",
   "execution_count": 13,
   "id": "33551dda",
   "metadata": {},
   "outputs": [
    {
     "data": {
      "text/plain": [
       "{'mae': 33.49, 'r2_adjusted': 10.26, 'wape': 34.72}"
      ]
     },
     "execution_count": 13,
     "metadata": {},
     "output_type": "execute_result"
    }
   ],
   "source": [
    "overfitting_baseline"
   ]
  },
  {
   "cell_type": "markdown",
   "id": "39dd2124",
   "metadata": {},
   "source": [
    "# Tuning с помощью Optuna"
   ]
  },
  {
   "cell_type": "code",
   "execution_count": 14,
   "id": "26c4745b",
   "metadata": {
    "code_folding": [],
    "scrolled": true
   },
   "outputs": [
    {
     "data": {
      "application/vnd.jupyter.widget-view+json": {
       "model_id": "cd128d39b81f401ea97e009bd9b0f95d",
       "version_major": 2,
       "version_minor": 0
      },
      "text/plain": [
       "  0%|          | 0/20 [00:00<?, ?it/s]"
      ]
     },
     "metadata": {},
     "output_type": "display_data"
    }
   ],
   "source": [
    "def objective(trial, data_x: pd.DataFrame, data_y: pd.Series,\n",
    "              n_estimators: int, n_folds: int, log_target: bool,\n",
    "              random_state: int) -> np.array:\n",
    "    \"\"\"\n",
    "    Целевая функция для поиска параметров\n",
    "    :param trial: кол-во trials\n",
    "    :param data_x: данные объект-признаки\n",
    "    :param data_y: данные с целевой переменной\n",
    "    :param n_estimators: количество базовых алгоритмов\n",
    "    :param n_folds: количество фолдов\n",
    "    :param: log_target: условие логарифмированной целевой переменной\n",
    "    :param random_state: random_state\n",
    "    :return: среднее значение метрики по фолдам\n",
    "    \"\"\"\n",
    "\n",
    "    lgb_params = {\n",
    "        \"n_estimators\":\n",
    "        trial.suggest_categorical(\"n_estimators\", [n_estimators]),\n",
    "        \"learning_rate\":\n",
    "        trial.suggest_float(\"learning_rate\", 0.001, 0.3, log=True),\n",
    "        \"num_leaves\":\n",
    "        trial.suggest_int(\"num_leaves\", 20, 1000, step=20),\n",
    "        \"max_depth\":\n",
    "        trial.suggest_int(\"max_depth\", 3, 12),\n",
    "        \"max_bin\":\n",
    "        trial.suggest_int(\"max_bin\", 20, 3300, step=10),\n",
    "        \"min_child_samples\":\n",
    "        trial.suggest_int(\"min_child_samples\", 10, 3000, step=10),\n",
    "        \"reg_alpha\":\n",
    "        trial.suggest_int(\"reg_alpha\", 0, 100),\n",
    "        \"reg_lambda\":\n",
    "        trial.suggest_int(\"reg_lambda\", 0, 100),\n",
    "        \"subsample\":\n",
    "        trial.suggest_float(\"subsample\", 0.2, 1.0),\n",
    "        \"subsample_freq\":\n",
    "        trial.suggest_categorical(\"subsample_freq\", [1]),\n",
    "        \"colsample_bytree\":\n",
    "        trial.suggest_float(\"colsample_bytree\", 0.2, 1.0),\n",
    "        \"objective\":\n",
    "        trial.suggest_categorical(\"objective\", [\"mae\"]),\n",
    "        \"random_state\":\n",
    "        trial.suggest_categorical(\"random_state\", [random_state])\n",
    "    }\n",
    "\n",
    "    cv = KFold(n_splits=n_folds, shuffle=True, random_state=random_state)\n",
    "\n",
    "    cv_mae_scores = np.empty(n_folds)\n",
    "\n",
    "    for idx, (train_idx, test_idx) in enumerate(cv.split(data_x, data_y)):\n",
    "        X_train, X_test = data_x.iloc[train_idx], data_x.iloc[test_idx]\n",
    "        y_train, y_test = data_y.iloc[train_idx], data_y.iloc[test_idx]\n",
    "\n",
    "        pruning_callback = optuna.integration.LightGBMPruningCallback(\n",
    "            trial, \"l1\")\n",
    "\n",
    "        model = LGBMRegressor(**lgb_params,\n",
    "                              early_stopping_rounds=100,\n",
    "                              verbose=-1)\n",
    "\n",
    "        model.fit(X_train,\n",
    "                  y_train,\n",
    "                  eval_set=[(X_test, y_test)],\n",
    "                  eval_metric=\"mae\",\n",
    "                  callbacks=[pruning_callback])\n",
    "\n",
    "        preds = model.predict(X_test)\n",
    "\n",
    "        # Вычисление MAE на исходной шкале данных\n",
    "        if log_target:\n",
    "            mae_score = mean_absolute_error(np.expm1(y_test), np.expm1(preds))\n",
    "        else:\n",
    "            mae_score = mean_absolute_error(y_test, preds)\n",
    "\n",
    "        cv_mae_scores[idx] = mae_score\n",
    "\n",
    "    return np.mean(cv_mae_scores)\n",
    "\n",
    "\n",
    "def find_optimal_params(X_train: pd.DataFrame, y_train: pd.Series,\n",
    "                        **kwargs) -> Study:\n",
    "    \"\"\"\n",
    "    Пайплайн для тренировки модели\n",
    "    :param data_train: датасет train\n",
    "    :param data_test: датасет test\n",
    "    :return: [LGBMClassifier tuning, Study]\n",
    "    \"\"\"\n",
    "\n",
    "    study = optuna.create_study(direction=\"minimize\", study_name=\"LGB\")\n",
    "\n",
    "    def function(trial):\n",
    "        return objective(trial, X_train, y_train, kwargs['n_estimators'],\n",
    "                         kwargs['n_folds'], kwargs['log_target'],\n",
    "                         kwargs['random_state'])\n",
    "\n",
    "    study.optimize(function,\n",
    "                   n_trials=kwargs[\"n_trials\"],\n",
    "                   show_progress_bar=True)\n",
    "    return study\n",
    "\n",
    "\n",
    "optuna.logging.set_verbosity(optuna.logging.WARNING)\n",
    "study = find_optimal_params(X_train=X_train, y_train=y_train, **train)"
   ]
  },
  {
   "cell_type": "code",
   "execution_count": 18,
   "id": "4248b894",
   "metadata": {},
   "outputs": [
    {
     "data": {
      "text/plain": [
       "{'n_estimators': 200,\n",
       " 'learning_rate': 0.14740207467503272,\n",
       " 'num_leaves': 860,\n",
       " 'max_depth': 9,\n",
       " 'max_bin': 2670,\n",
       " 'min_child_samples': 20,\n",
       " 'reg_alpha': 48,\n",
       " 'reg_lambda': 93,\n",
       " 'subsample': 0.7688511524644333,\n",
       " 'subsample_freq': 1,\n",
       " 'colsample_bytree': 0.5078236327312899,\n",
       " 'objective': 'mae',\n",
       " 'random_state': 10}"
      ]
     },
     "execution_count": 18,
     "metadata": {},
     "output_type": "execute_result"
    }
   ],
   "source": [
    "study.best_params"
   ]
  },
  {
   "cell_type": "code",
   "execution_count": 16,
   "id": "2bc0d456",
   "metadata": {},
   "outputs": [
    {
     "data": {
      "image/png": "[encoded data removed]",
      "text/plain": [
       "<Figure size 640x480 with 1 Axes>"
      ]
     },
     "metadata": {},
     "output_type": "display_data"
    }
   ],
   "source": [
    "plot_param_importances(study);"
   ]
  },
  {
   "cell_type": "code",
   "execution_count": 17,
   "id": "94ddd262",
   "metadata": {},
   "outputs": [
    {
     "data": {
      "image/png": "[encoded data removed]",
      "text/plain": [
       "<Figure size 640x480 with 1 Axes>"
      ]
     },
     "metadata": {},
     "output_type": "display_data"
    }
   ],
   "source": [
    "plot_optimization_history(study);"
   ]
  },
  {
   "cell_type": "markdown",
   "id": "065981e7",
   "metadata": {},
   "source": [
    "# Обучение на лучших параметрах"
   ]
  },
  {
   "cell_type": "code",
   "execution_count": 21,
   "id": "d4df0bce",
   "metadata": {},
   "outputs": [
    {
     "data": {
      "text/html": [
       "<style>#sk-container-id-2 {color: black;background-color: white;}#sk-container-id-2 pre{padding: 0;}#sk-container-id-2 div.sk-toggleable {background-color: white;}#sk-container-id-2 label.sk-toggleable__label {cursor: pointer;display: block;width: 100%;margin-bottom: 0;padding: 0.3em;box-sizing: border-box;text-align: center;}#sk-container-id-2 label.sk-toggleable__label-arrow:before {content: \"▸\";float: left;margin-right: 0.25em;color: #696969;}#sk-container-id-2 label.sk-toggleable__label-arrow:hover:before {color: black;}#sk-container-id-2 div.sk-estimator:hover label.sk-toggleable__label-arrow:before {color: black;}#sk-container-id-2 div.sk-toggleable__content {max-height: 0;max-width: 0;overflow: hidden;text-align: left;background-color: #f0f8ff;}#sk-container-id-2 div.sk-toggleable__content pre {margin: 0.2em;color: black;border-radius: 0.25em;background-color: #f0f8ff;}#sk-container-id-2 input.sk-toggleable__control:checked~div.sk-toggleable__content {max-height: 200px;max-width: 100%;overflow: auto;}#sk-container-id-2 input.sk-toggleable__control:checked~label.sk-toggleable__label-arrow:before {content: \"▾\";}#sk-container-id-2 div.sk-estimator input.sk-toggleable__control:checked~label.sk-toggleable__label {background-color: #d4ebff;}#sk-container-id-2 div.sk-label input.sk-toggleable__control:checked~label.sk-toggleable__label {background-color: #d4ebff;}#sk-container-id-2 input.sk-hidden--visually {border: 0;clip: rect(1px 1px 1px 1px);clip: rect(1px, 1px, 1px, 1px);height: 1px;margin: -1px;overflow: hidden;padding: 0;position: absolute;width: 1px;}#sk-container-id-2 div.sk-estimator {font-family: monospace;background-color: #f0f8ff;border: 1px dotted black;border-radius: 0.25em;box-sizing: border-box;margin-bottom: 0.5em;}#sk-container-id-2 div.sk-estimator:hover {background-color: #d4ebff;}#sk-container-id-2 div.sk-parallel-item::after {content: \"\";width: 100%;border-bottom: 1px solid gray;flex-grow: 1;}#sk-container-id-2 div.sk-label:hover label.sk-toggleable__label {background-color: #d4ebff;}#sk-container-id-2 div.sk-serial::before {content: \"\";position: absolute;border-left: 1px solid gray;box-sizing: border-box;top: 0;bottom: 0;left: 50%;z-index: 0;}#sk-container-id-2 div.sk-serial {display: flex;flex-direction: column;align-items: center;background-color: white;padding-right: 0.2em;padding-left: 0.2em;position: relative;}#sk-container-id-2 div.sk-item {position: relative;z-index: 1;}#sk-container-id-2 div.sk-parallel {display: flex;align-items: stretch;justify-content: center;background-color: white;position: relative;}#sk-container-id-2 div.sk-item::before, #sk-container-id-2 div.sk-parallel-item::before {content: \"\";position: absolute;border-left: 1px solid gray;box-sizing: border-box;top: 0;bottom: 0;left: 50%;z-index: -1;}#sk-container-id-2 div.sk-parallel-item {display: flex;flex-direction: column;z-index: 1;position: relative;background-color: white;}#sk-container-id-2 div.sk-parallel-item:first-child::after {align-self: flex-end;width: 50%;}#sk-container-id-2 div.sk-parallel-item:last-child::after {align-self: flex-start;width: 50%;}#sk-container-id-2 div.sk-parallel-item:only-child::after {width: 0;}#sk-container-id-2 div.sk-dashed-wrapped {border: 1px dashed gray;margin: 0 0.4em 0.5em 0.4em;box-sizing: border-box;padding-bottom: 0.4em;background-color: white;}#sk-container-id-2 div.sk-label label {font-family: monospace;font-weight: bold;display: inline-block;line-height: 1.2em;}#sk-container-id-2 div.sk-label-container {text-align: center;}#sk-container-id-2 div.sk-container {/* jupyter's `normalize.less` sets `[hidden] { display: none; }` but bootstrap.min.css set `[hidden] { display: none !important; }` so we also need the `!important` here to be able to override the default hidden behavior on the sphinx rendered scikit-learn.org. See: https://github.com/scikit-learn/scikit-learn/issues/21755 */display: inline-block !important;position: relative;}#sk-container-id-2 div.sk-text-repr-fallback {display: none;}</style><div id=\"sk-container-id-2\" class=\"sk-top-container\"><div class=\"sk-text-repr-fallback\"><pre>LGBMRegressor(colsample_bytree=0.5078236327312899,\n",
       "              learning_rate=0.14740207467503272, max_bin=2670, max_depth=9,\n",
       "              n_estimators=200, num_leaves=860, objective=&#x27;mae&#x27;,\n",
       "              random_state=10, reg_alpha=48, reg_lambda=93, silent=True,\n",
       "              subsample=0.7688511524644333, subsample_freq=1, verbose=-1)</pre><b>In a Jupyter environment, please rerun this cell to show the HTML representation or trust the notebook. <br />On GitHub, the HTML representation is unable to render, please try loading this page with nbviewer.org.</b></div><div class=\"sk-container\" hidden><div class=\"sk-item\"><div class=\"sk-estimator sk-toggleable\"><input class=\"sk-toggleable__control sk-hidden--visually\" id=\"sk-estimator-id-2\" type=\"checkbox\" checked><label for=\"sk-estimator-id-2\" class=\"sk-toggleable__label sk-toggleable__label-arrow\">LGBMRegressor</label><div class=\"sk-toggleable__content\"><pre>LGBMRegressor(colsample_bytree=0.5078236327312899,\n",
       "              learning_rate=0.14740207467503272, max_bin=2670, max_depth=9,\n",
       "              n_estimators=200, num_leaves=860, objective=&#x27;mae&#x27;,\n",
       "              random_state=10, reg_alpha=48, reg_lambda=93, silent=True,\n",
       "              subsample=0.7688511524644333, subsample_freq=1, verbose=-1)</pre></div></div></div></div></div>"
      ],
      "text/plain": [
       "LGBMRegressor(colsample_bytree=0.5078236327312899,\n",
       "              learning_rate=0.14740207467503272, max_bin=2670, max_depth=9,\n",
       "              n_estimators=200, num_leaves=860, objective='mae',\n",
       "              random_state=10, reg_alpha=48, reg_lambda=93, silent=True,\n",
       "              subsample=0.7688511524644333, subsample_freq=1, verbose=-1)"
      ]
     },
     "execution_count": 21,
     "metadata": {},
     "output_type": "execute_result"
    }
   ],
   "source": [
    "reg_optuna = LGBMRegressor(**study.best_params, silent=True, verbose=-1)\n",
    "reg_optuna.fit(X_train, y_train)"
   ]
  },
  {
   "cell_type": "code",
   "execution_count": 22,
   "id": "8a303274",
   "metadata": {},
   "outputs": [],
   "source": [
    "metrics_optuna = {}\n",
    "\n",
    "metrics_optuna['test'] = create_dict_metrics(y_test=y_test,\n",
    "                                      y_predict=reg_optuna.predict(X_test),\n",
    "                                      x_test=X_test,\n",
    "                                      target_is_log=train['log_target'])\n",
    "\n",
    "metrics_optuna['train'] = create_dict_metrics(y_test=y_train,\n",
    "                                       y_predict=reg_optuna.predict(X_train),\n",
    "                                       x_test=X_train,\n",
    "                                       target_is_log=train['log_target'])\n",
    "\n",
    "overfitting_optuna = check_overfitting(metrics_optuna)"
   ]
  },
  {
   "cell_type": "code",
   "execution_count": 23,
   "id": "ff30504b",
   "metadata": {
    "scrolled": true
   },
   "outputs": [
    {
     "data": {
      "text/plain": [
       "{'test': {'mae': 14953964.227, 'r2_adjusted': 0.77, 'wape': 38.253},\n",
       " 'train': {'mae': 9945923.751, 'r2_adjusted': 0.849, 'wape': 24.972}}"
      ]
     },
     "execution_count": 23,
     "metadata": {},
     "output_type": "execute_result"
    }
   ],
   "source": [
    "metrics_baseline"
   ]
  },
  {
   "cell_type": "code",
   "execution_count": 24,
   "id": "9d23e890",
   "metadata": {
    "scrolled": true
   },
   "outputs": [
    {
     "data": {
      "text/plain": [
       "{'test': {'mae': 16115477.585, 'r2_adjusted': 0.73, 'wape': 41.224},\n",
       " 'train': {'mae': 13768026.163, 'r2_adjusted': 0.774, 'wape': 34.568}}"
      ]
     },
     "execution_count": 24,
     "metadata": {},
     "output_type": "execute_result"
    }
   ],
   "source": [
    "metrics_optuna"
   ]
  },
  {
   "cell_type": "code",
   "execution_count": 25,
   "id": "f1ce3e35",
   "metadata": {
    "scrolled": true
   },
   "outputs": [
    {
     "data": {
      "text/plain": [
       "{'mae': 33.49, 'r2_adjusted': 10.26, 'wape': 34.72}"
      ]
     },
     "execution_count": 25,
     "metadata": {},
     "output_type": "execute_result"
    }
   ],
   "source": [
    "overfitting_baseline"
   ]
  },
  {
   "cell_type": "code",
   "execution_count": 26,
   "id": "579fdddc",
   "metadata": {},
   "outputs": [
    {
     "data": {
      "text/plain": [
       "{'mae': 14.57, 'r2_adjusted': 6.03, 'wape': 16.15}"
      ]
     },
     "execution_count": 26,
     "metadata": {},
     "output_type": "execute_result"
    }
   ],
   "source": [
    "overfitting_optuna"
   ]
  },
  {
   "cell_type": "markdown",
   "id": "7effa879",
   "metadata": {},
   "source": [
    "После настройки с Optuna, точность модели снизилась (WAPE на 3%,  R2_adjusted на 0.04, MAE возрасла на ~1 млн). <br>При этом уровень переобучения значительно уменьшился."
   ]
  },
  {
   "cell_type": "code",
   "execution_count": 27,
   "id": "63a98f76",
   "metadata": {},
   "outputs": [
    {
     "data": {
      "text/plain": [
       "['../models/study.joblib']"
      ]
     },
     "execution_count": 27,
     "metadata": {},
     "output_type": "execute_result"
    }
   ],
   "source": [
    "# Сохраняем модель\n",
    "joblib.dump(reg_optuna, os.path.join(train[\"model_path\"]))\n",
    "# Сохраняем объект study для вывода графиков в UI\n",
    "joblib.dump(study, os.path.join(train[\"study_path\"]))"
   ]
  },
  {
   "cell_type": "code",
   "execution_count": 28,
   "id": "e3f410ab",
   "metadata": {},
   "outputs": [],
   "source": [
    "def save_metrics(data_x: pd.DataFrame,\n",
    "                 data_y: pd.Series,\n",
    "                 model: object,\n",
    "                 metric_path: str,\n",
    "                 target_is_log: bool) -> None:\n",
    "    \"\"\"\n",
    "    Получение и сохранение метрик\n",
    "    :param data_x: объект-признаки\n",
    "    :param data_y: целевая переменная\n",
    "    :param model: модель\n",
    "    :param metric_path: путь для сохранения метрик\n",
    "    :param target_is_log: условие логарифмированной целевой переменной\n",
    "    \"\"\"\n",
    "    result_metrics = create_dict_metrics(y_test=data_y,\n",
    "                                         y_predict=model.predict(data_x),\n",
    "                                         x_test=data_x,\n",
    "                                         target_is_log=target_is_log)\n",
    "    \n",
    "    with open(metric_path, 'w', encoding='utf-8') as file:\n",
    "        json.dump(result_metrics, file, indent=4, ensure_ascii=False)\n",
    "\n",
    "# Сохраняем метрики на train и на test для вывода в UI\n",
    "save_metrics(data_x=X_test,\n",
    "             data_y=y_test,\n",
    "             model=reg_optuna,\n",
    "             metric_path=train['metrics_path_test'],\n",
    "             target_is_log=train['log_target'])\n",
    "\n",
    "save_metrics(data_x=X_train,\n",
    "             data_y=y_train,\n",
    "             model=reg_optuna,\n",
    "             metric_path=train['metrics_path_train'],\n",
    "             target_is_log=train['log_target'])"
   ]
  }
 ],
 "metadata": {
  "kernelspec": {
   "display_name": "Python 3 (ipykernel)",
   "language": "python",
   "name": "python3"
  },
  "language_info": {
   "codemirror_mode": {
    "name": "ipython",
    "version": 3
   },
   "file_extension": ".py",
   "mimetype": "text/x-python",
   "name": "python",
   "nbconvert_exporter": "python",
   "pygments_lexer": "ipython3",
   "version": "3.10.10"
  },
  "toc": {
   "base_numbering": 1,
   "nav_menu": {},
   "number_sections": true,
   "sideBar": true,
   "skip_h1_title": false,
   "title_cell": "Table of Contents",
   "title_sidebar": "Contents",
   "toc_cell": false,
   "toc_position": {
    "height": "816px",
    "left": "30px",
    "top": "34px",
    "width": "323.390625px"
   },
   "toc_section_display": true,
   "toc_window_display": true
  }
 },
 "nbformat": 4,
 "nbformat_minor": 5
}
